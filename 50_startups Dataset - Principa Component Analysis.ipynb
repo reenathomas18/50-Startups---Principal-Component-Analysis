{
 "cells": [
  {
   "cell_type": "markdown",
   "metadata": {},
   "source": [
    "# Assignment Task\n",
    "## Perform PCA  on 50 Startups and get the best model using the following algorithms\n",
    "### 1. Linear Regression\n",
    "### 2. Linear SVR\n",
    "### 3. Random Forest Regressor"
   ]
  },
  {
   "cell_type": "code",
   "execution_count": 354,
   "metadata": {},
   "outputs": [],
   "source": [
    "#Importing libraries\n",
    "import numpy as np\n",
    "import pandas as pd"
   ]
  },
  {
   "cell_type": "code",
   "execution_count": 355,
   "metadata": {},
   "outputs": [
    {
     "data": {
      "text/html": [
       "<div>\n",
       "<style scoped>\n",
       "    .dataframe tbody tr th:only-of-type {\n",
       "        vertical-align: middle;\n",
       "    }\n",
       "\n",
       "    .dataframe tbody tr th {\n",
       "        vertical-align: top;\n",
       "    }\n",
       "\n",
       "    .dataframe thead th {\n",
       "        text-align: right;\n",
       "    }\n",
       "</style>\n",
       "<table border=\"1\" class=\"dataframe\">\n",
       "  <thead>\n",
       "    <tr style=\"text-align: right;\">\n",
       "      <th></th>\n",
       "      <th>R&amp;D Spend</th>\n",
       "      <th>Administration</th>\n",
       "      <th>Marketing Spend</th>\n",
       "      <th>State</th>\n",
       "      <th>Profit</th>\n",
       "    </tr>\n",
       "  </thead>\n",
       "  <tbody>\n",
       "    <tr>\n",
       "      <td>0</td>\n",
       "      <td>165349.20</td>\n",
       "      <td>136897.80</td>\n",
       "      <td>471784.10</td>\n",
       "      <td>New York</td>\n",
       "      <td>192261.83</td>\n",
       "    </tr>\n",
       "    <tr>\n",
       "      <td>1</td>\n",
       "      <td>162597.70</td>\n",
       "      <td>151377.59</td>\n",
       "      <td>443898.53</td>\n",
       "      <td>California</td>\n",
       "      <td>191792.06</td>\n",
       "    </tr>\n",
       "    <tr>\n",
       "      <td>2</td>\n",
       "      <td>153441.51</td>\n",
       "      <td>101145.55</td>\n",
       "      <td>407934.54</td>\n",
       "      <td>Florida</td>\n",
       "      <td>191050.39</td>\n",
       "    </tr>\n",
       "    <tr>\n",
       "      <td>3</td>\n",
       "      <td>144372.41</td>\n",
       "      <td>118671.85</td>\n",
       "      <td>383199.62</td>\n",
       "      <td>New York</td>\n",
       "      <td>182901.99</td>\n",
       "    </tr>\n",
       "    <tr>\n",
       "      <td>4</td>\n",
       "      <td>142107.34</td>\n",
       "      <td>91391.77</td>\n",
       "      <td>366168.42</td>\n",
       "      <td>Florida</td>\n",
       "      <td>166187.94</td>\n",
       "    </tr>\n",
       "    <tr>\n",
       "      <td>5</td>\n",
       "      <td>131876.90</td>\n",
       "      <td>99814.71</td>\n",
       "      <td>362861.36</td>\n",
       "      <td>New York</td>\n",
       "      <td>156991.12</td>\n",
       "    </tr>\n",
       "    <tr>\n",
       "      <td>6</td>\n",
       "      <td>134615.46</td>\n",
       "      <td>147198.87</td>\n",
       "      <td>127716.82</td>\n",
       "      <td>California</td>\n",
       "      <td>156122.51</td>\n",
       "    </tr>\n",
       "    <tr>\n",
       "      <td>7</td>\n",
       "      <td>130298.13</td>\n",
       "      <td>145530.06</td>\n",
       "      <td>323876.68</td>\n",
       "      <td>Florida</td>\n",
       "      <td>155752.60</td>\n",
       "    </tr>\n",
       "    <tr>\n",
       "      <td>8</td>\n",
       "      <td>120542.52</td>\n",
       "      <td>148718.95</td>\n",
       "      <td>311613.29</td>\n",
       "      <td>New York</td>\n",
       "      <td>152211.77</td>\n",
       "    </tr>\n",
       "    <tr>\n",
       "      <td>9</td>\n",
       "      <td>123334.88</td>\n",
       "      <td>108679.17</td>\n",
       "      <td>304981.62</td>\n",
       "      <td>California</td>\n",
       "      <td>149759.96</td>\n",
       "    </tr>\n",
       "    <tr>\n",
       "      <td>10</td>\n",
       "      <td>101913.08</td>\n",
       "      <td>110594.11</td>\n",
       "      <td>229160.95</td>\n",
       "      <td>Florida</td>\n",
       "      <td>146121.95</td>\n",
       "    </tr>\n",
       "    <tr>\n",
       "      <td>11</td>\n",
       "      <td>100671.96</td>\n",
       "      <td>91790.61</td>\n",
       "      <td>249744.55</td>\n",
       "      <td>California</td>\n",
       "      <td>144259.40</td>\n",
       "    </tr>\n",
       "    <tr>\n",
       "      <td>12</td>\n",
       "      <td>93863.75</td>\n",
       "      <td>127320.38</td>\n",
       "      <td>249839.44</td>\n",
       "      <td>Florida</td>\n",
       "      <td>141585.52</td>\n",
       "    </tr>\n",
       "    <tr>\n",
       "      <td>13</td>\n",
       "      <td>91992.39</td>\n",
       "      <td>135495.07</td>\n",
       "      <td>252664.93</td>\n",
       "      <td>California</td>\n",
       "      <td>134307.35</td>\n",
       "    </tr>\n",
       "    <tr>\n",
       "      <td>14</td>\n",
       "      <td>119943.24</td>\n",
       "      <td>156547.42</td>\n",
       "      <td>256512.92</td>\n",
       "      <td>Florida</td>\n",
       "      <td>132602.65</td>\n",
       "    </tr>\n",
       "    <tr>\n",
       "      <td>15</td>\n",
       "      <td>114523.61</td>\n",
       "      <td>122616.84</td>\n",
       "      <td>261776.23</td>\n",
       "      <td>New York</td>\n",
       "      <td>129917.04</td>\n",
       "    </tr>\n",
       "    <tr>\n",
       "      <td>16</td>\n",
       "      <td>78013.11</td>\n",
       "      <td>121597.55</td>\n",
       "      <td>264346.06</td>\n",
       "      <td>California</td>\n",
       "      <td>126992.93</td>\n",
       "    </tr>\n",
       "    <tr>\n",
       "      <td>17</td>\n",
       "      <td>94657.16</td>\n",
       "      <td>145077.58</td>\n",
       "      <td>282574.31</td>\n",
       "      <td>New York</td>\n",
       "      <td>125370.37</td>\n",
       "    </tr>\n",
       "    <tr>\n",
       "      <td>18</td>\n",
       "      <td>91749.16</td>\n",
       "      <td>114175.79</td>\n",
       "      <td>294919.57</td>\n",
       "      <td>Florida</td>\n",
       "      <td>124266.90</td>\n",
       "    </tr>\n",
       "    <tr>\n",
       "      <td>19</td>\n",
       "      <td>86419.70</td>\n",
       "      <td>153514.11</td>\n",
       "      <td>0.00</td>\n",
       "      <td>New York</td>\n",
       "      <td>122776.86</td>\n",
       "    </tr>\n",
       "    <tr>\n",
       "      <td>20</td>\n",
       "      <td>76253.86</td>\n",
       "      <td>113867.30</td>\n",
       "      <td>298664.47</td>\n",
       "      <td>California</td>\n",
       "      <td>118474.03</td>\n",
       "    </tr>\n",
       "    <tr>\n",
       "      <td>21</td>\n",
       "      <td>78389.47</td>\n",
       "      <td>153773.43</td>\n",
       "      <td>299737.29</td>\n",
       "      <td>New York</td>\n",
       "      <td>111313.02</td>\n",
       "    </tr>\n",
       "    <tr>\n",
       "      <td>22</td>\n",
       "      <td>73994.56</td>\n",
       "      <td>122782.75</td>\n",
       "      <td>303319.26</td>\n",
       "      <td>Florida</td>\n",
       "      <td>110352.25</td>\n",
       "    </tr>\n",
       "    <tr>\n",
       "      <td>23</td>\n",
       "      <td>67532.53</td>\n",
       "      <td>105751.03</td>\n",
       "      <td>304768.73</td>\n",
       "      <td>Florida</td>\n",
       "      <td>108733.99</td>\n",
       "    </tr>\n",
       "    <tr>\n",
       "      <td>24</td>\n",
       "      <td>77044.01</td>\n",
       "      <td>99281.34</td>\n",
       "      <td>140574.81</td>\n",
       "      <td>New York</td>\n",
       "      <td>108552.04</td>\n",
       "    </tr>\n",
       "    <tr>\n",
       "      <td>25</td>\n",
       "      <td>64664.71</td>\n",
       "      <td>139553.16</td>\n",
       "      <td>137962.62</td>\n",
       "      <td>California</td>\n",
       "      <td>107404.34</td>\n",
       "    </tr>\n",
       "    <tr>\n",
       "      <td>26</td>\n",
       "      <td>75328.87</td>\n",
       "      <td>144135.98</td>\n",
       "      <td>134050.07</td>\n",
       "      <td>Florida</td>\n",
       "      <td>105733.54</td>\n",
       "    </tr>\n",
       "    <tr>\n",
       "      <td>27</td>\n",
       "      <td>72107.60</td>\n",
       "      <td>127864.55</td>\n",
       "      <td>353183.81</td>\n",
       "      <td>New York</td>\n",
       "      <td>105008.31</td>\n",
       "    </tr>\n",
       "    <tr>\n",
       "      <td>28</td>\n",
       "      <td>66051.52</td>\n",
       "      <td>182645.56</td>\n",
       "      <td>118148.20</td>\n",
       "      <td>Florida</td>\n",
       "      <td>103282.38</td>\n",
       "    </tr>\n",
       "    <tr>\n",
       "      <td>29</td>\n",
       "      <td>65605.48</td>\n",
       "      <td>153032.06</td>\n",
       "      <td>107138.38</td>\n",
       "      <td>New York</td>\n",
       "      <td>101004.64</td>\n",
       "    </tr>\n",
       "    <tr>\n",
       "      <td>30</td>\n",
       "      <td>61994.48</td>\n",
       "      <td>115641.28</td>\n",
       "      <td>91131.24</td>\n",
       "      <td>Florida</td>\n",
       "      <td>99937.59</td>\n",
       "    </tr>\n",
       "    <tr>\n",
       "      <td>31</td>\n",
       "      <td>61136.38</td>\n",
       "      <td>152701.92</td>\n",
       "      <td>88218.23</td>\n",
       "      <td>New York</td>\n",
       "      <td>97483.56</td>\n",
       "    </tr>\n",
       "    <tr>\n",
       "      <td>32</td>\n",
       "      <td>63408.86</td>\n",
       "      <td>129219.61</td>\n",
       "      <td>46085.25</td>\n",
       "      <td>California</td>\n",
       "      <td>97427.84</td>\n",
       "    </tr>\n",
       "    <tr>\n",
       "      <td>33</td>\n",
       "      <td>55493.95</td>\n",
       "      <td>103057.49</td>\n",
       "      <td>214634.81</td>\n",
       "      <td>Florida</td>\n",
       "      <td>96778.92</td>\n",
       "    </tr>\n",
       "    <tr>\n",
       "      <td>34</td>\n",
       "      <td>46426.07</td>\n",
       "      <td>157693.92</td>\n",
       "      <td>210797.67</td>\n",
       "      <td>California</td>\n",
       "      <td>96712.80</td>\n",
       "    </tr>\n",
       "    <tr>\n",
       "      <td>35</td>\n",
       "      <td>46014.02</td>\n",
       "      <td>85047.44</td>\n",
       "      <td>205517.64</td>\n",
       "      <td>New York</td>\n",
       "      <td>96479.51</td>\n",
       "    </tr>\n",
       "    <tr>\n",
       "      <td>36</td>\n",
       "      <td>28663.76</td>\n",
       "      <td>127056.21</td>\n",
       "      <td>201126.82</td>\n",
       "      <td>Florida</td>\n",
       "      <td>90708.19</td>\n",
       "    </tr>\n",
       "    <tr>\n",
       "      <td>37</td>\n",
       "      <td>44069.95</td>\n",
       "      <td>51283.14</td>\n",
       "      <td>197029.42</td>\n",
       "      <td>California</td>\n",
       "      <td>89949.14</td>\n",
       "    </tr>\n",
       "    <tr>\n",
       "      <td>38</td>\n",
       "      <td>20229.59</td>\n",
       "      <td>65947.93</td>\n",
       "      <td>185265.10</td>\n",
       "      <td>New York</td>\n",
       "      <td>81229.06</td>\n",
       "    </tr>\n",
       "    <tr>\n",
       "      <td>39</td>\n",
       "      <td>38558.51</td>\n",
       "      <td>82982.09</td>\n",
       "      <td>174999.30</td>\n",
       "      <td>California</td>\n",
       "      <td>81005.76</td>\n",
       "    </tr>\n",
       "    <tr>\n",
       "      <td>40</td>\n",
       "      <td>28754.33</td>\n",
       "      <td>118546.05</td>\n",
       "      <td>172795.67</td>\n",
       "      <td>California</td>\n",
       "      <td>78239.91</td>\n",
       "    </tr>\n",
       "    <tr>\n",
       "      <td>41</td>\n",
       "      <td>27892.92</td>\n",
       "      <td>84710.77</td>\n",
       "      <td>164470.71</td>\n",
       "      <td>Florida</td>\n",
       "      <td>77798.83</td>\n",
       "    </tr>\n",
       "    <tr>\n",
       "      <td>42</td>\n",
       "      <td>23640.93</td>\n",
       "      <td>96189.63</td>\n",
       "      <td>148001.11</td>\n",
       "      <td>California</td>\n",
       "      <td>71498.49</td>\n",
       "    </tr>\n",
       "    <tr>\n",
       "      <td>43</td>\n",
       "      <td>15505.73</td>\n",
       "      <td>127382.30</td>\n",
       "      <td>35534.17</td>\n",
       "      <td>New York</td>\n",
       "      <td>69758.98</td>\n",
       "    </tr>\n",
       "    <tr>\n",
       "      <td>44</td>\n",
       "      <td>22177.74</td>\n",
       "      <td>154806.14</td>\n",
       "      <td>28334.72</td>\n",
       "      <td>California</td>\n",
       "      <td>65200.33</td>\n",
       "    </tr>\n",
       "    <tr>\n",
       "      <td>45</td>\n",
       "      <td>1000.23</td>\n",
       "      <td>124153.04</td>\n",
       "      <td>1903.93</td>\n",
       "      <td>New York</td>\n",
       "      <td>64926.08</td>\n",
       "    </tr>\n",
       "    <tr>\n",
       "      <td>46</td>\n",
       "      <td>1315.46</td>\n",
       "      <td>115816.21</td>\n",
       "      <td>297114.46</td>\n",
       "      <td>Florida</td>\n",
       "      <td>49490.75</td>\n",
       "    </tr>\n",
       "    <tr>\n",
       "      <td>47</td>\n",
       "      <td>0.00</td>\n",
       "      <td>135426.92</td>\n",
       "      <td>0.00</td>\n",
       "      <td>California</td>\n",
       "      <td>42559.73</td>\n",
       "    </tr>\n",
       "    <tr>\n",
       "      <td>48</td>\n",
       "      <td>542.05</td>\n",
       "      <td>51743.15</td>\n",
       "      <td>0.00</td>\n",
       "      <td>New York</td>\n",
       "      <td>35673.41</td>\n",
       "    </tr>\n",
       "    <tr>\n",
       "      <td>49</td>\n",
       "      <td>0.00</td>\n",
       "      <td>116983.80</td>\n",
       "      <td>45173.06</td>\n",
       "      <td>California</td>\n",
       "      <td>14681.40</td>\n",
       "    </tr>\n",
       "  </tbody>\n",
       "</table>\n",
       "</div>"
      ],
      "text/plain": [
       "    R&D Spend  Administration  Marketing Spend       State     Profit\n",
       "0   165349.20       136897.80        471784.10    New York  192261.83\n",
       "1   162597.70       151377.59        443898.53  California  191792.06\n",
       "2   153441.51       101145.55        407934.54     Florida  191050.39\n",
       "3   144372.41       118671.85        383199.62    New York  182901.99\n",
       "4   142107.34        91391.77        366168.42     Florida  166187.94\n",
       "5   131876.90        99814.71        362861.36    New York  156991.12\n",
       "6   134615.46       147198.87        127716.82  California  156122.51\n",
       "7   130298.13       145530.06        323876.68     Florida  155752.60\n",
       "8   120542.52       148718.95        311613.29    New York  152211.77\n",
       "9   123334.88       108679.17        304981.62  California  149759.96\n",
       "10  101913.08       110594.11        229160.95     Florida  146121.95\n",
       "11  100671.96        91790.61        249744.55  California  144259.40\n",
       "12   93863.75       127320.38        249839.44     Florida  141585.52\n",
       "13   91992.39       135495.07        252664.93  California  134307.35\n",
       "14  119943.24       156547.42        256512.92     Florida  132602.65\n",
       "15  114523.61       122616.84        261776.23    New York  129917.04\n",
       "16   78013.11       121597.55        264346.06  California  126992.93\n",
       "17   94657.16       145077.58        282574.31    New York  125370.37\n",
       "18   91749.16       114175.79        294919.57     Florida  124266.90\n",
       "19   86419.70       153514.11             0.00    New York  122776.86\n",
       "20   76253.86       113867.30        298664.47  California  118474.03\n",
       "21   78389.47       153773.43        299737.29    New York  111313.02\n",
       "22   73994.56       122782.75        303319.26     Florida  110352.25\n",
       "23   67532.53       105751.03        304768.73     Florida  108733.99\n",
       "24   77044.01        99281.34        140574.81    New York  108552.04\n",
       "25   64664.71       139553.16        137962.62  California  107404.34\n",
       "26   75328.87       144135.98        134050.07     Florida  105733.54\n",
       "27   72107.60       127864.55        353183.81    New York  105008.31\n",
       "28   66051.52       182645.56        118148.20     Florida  103282.38\n",
       "29   65605.48       153032.06        107138.38    New York  101004.64\n",
       "30   61994.48       115641.28         91131.24     Florida   99937.59\n",
       "31   61136.38       152701.92         88218.23    New York   97483.56\n",
       "32   63408.86       129219.61         46085.25  California   97427.84\n",
       "33   55493.95       103057.49        214634.81     Florida   96778.92\n",
       "34   46426.07       157693.92        210797.67  California   96712.80\n",
       "35   46014.02        85047.44        205517.64    New York   96479.51\n",
       "36   28663.76       127056.21        201126.82     Florida   90708.19\n",
       "37   44069.95        51283.14        197029.42  California   89949.14\n",
       "38   20229.59        65947.93        185265.10    New York   81229.06\n",
       "39   38558.51        82982.09        174999.30  California   81005.76\n",
       "40   28754.33       118546.05        172795.67  California   78239.91\n",
       "41   27892.92        84710.77        164470.71     Florida   77798.83\n",
       "42   23640.93        96189.63        148001.11  California   71498.49\n",
       "43   15505.73       127382.30         35534.17    New York   69758.98\n",
       "44   22177.74       154806.14         28334.72  California   65200.33\n",
       "45    1000.23       124153.04          1903.93    New York   64926.08\n",
       "46    1315.46       115816.21        297114.46     Florida   49490.75\n",
       "47       0.00       135426.92             0.00  California   42559.73\n",
       "48     542.05        51743.15             0.00    New York   35673.41\n",
       "49       0.00       116983.80         45173.06  California   14681.40"
      ]
     },
     "execution_count": 355,
     "metadata": {},
     "output_type": "execute_result"
    }
   ],
   "source": [
    "#Loading dataset\n",
    "df = pd.read_csv('50_Startups.csv')\n",
    "df.head()\n",
    "df"
   ]
  },
  {
   "cell_type": "code",
   "execution_count": 356,
   "metadata": {},
   "outputs": [
    {
     "name": "stdout",
     "output_type": "stream",
     "text": [
      "<class 'pandas.core.frame.DataFrame'>\n",
      "RangeIndex: 50 entries, 0 to 49\n",
      "Data columns (total 5 columns):\n",
      "R&D Spend          50 non-null float64\n",
      "Administration     50 non-null float64\n",
      "Marketing Spend    50 non-null float64\n",
      "State              50 non-null object\n",
      "Profit             50 non-null float64\n",
      "dtypes: float64(4), object(1)\n",
      "memory usage: 2.1+ KB\n"
     ]
    }
   ],
   "source": [
    "df.info()  # - Indicates that there are no missing values"
   ]
  },
  {
   "cell_type": "code",
   "execution_count": 357,
   "metadata": {},
   "outputs": [
    {
     "data": {
      "text/html": [
       "<div>\n",
       "<style scoped>\n",
       "    .dataframe tbody tr th:only-of-type {\n",
       "        vertical-align: middle;\n",
       "    }\n",
       "\n",
       "    .dataframe tbody tr th {\n",
       "        vertical-align: top;\n",
       "    }\n",
       "\n",
       "    .dataframe thead th {\n",
       "        text-align: right;\n",
       "    }\n",
       "</style>\n",
       "<table border=\"1\" class=\"dataframe\">\n",
       "  <thead>\n",
       "    <tr style=\"text-align: right;\">\n",
       "      <th></th>\n",
       "      <th>R&amp;D Spend</th>\n",
       "      <th>Administration</th>\n",
       "      <th>Marketing Spend</th>\n",
       "      <th>Profit</th>\n",
       "    </tr>\n",
       "  </thead>\n",
       "  <tbody>\n",
       "    <tr>\n",
       "      <td>count</td>\n",
       "      <td>50.000000</td>\n",
       "      <td>50.000000</td>\n",
       "      <td>50.000000</td>\n",
       "      <td>50.000000</td>\n",
       "    </tr>\n",
       "    <tr>\n",
       "      <td>mean</td>\n",
       "      <td>73721.615600</td>\n",
       "      <td>121344.639600</td>\n",
       "      <td>211025.097800</td>\n",
       "      <td>112012.639200</td>\n",
       "    </tr>\n",
       "    <tr>\n",
       "      <td>std</td>\n",
       "      <td>45902.256482</td>\n",
       "      <td>28017.802755</td>\n",
       "      <td>122290.310726</td>\n",
       "      <td>40306.180338</td>\n",
       "    </tr>\n",
       "    <tr>\n",
       "      <td>min</td>\n",
       "      <td>0.000000</td>\n",
       "      <td>51283.140000</td>\n",
       "      <td>0.000000</td>\n",
       "      <td>14681.400000</td>\n",
       "    </tr>\n",
       "    <tr>\n",
       "      <td>25%</td>\n",
       "      <td>39936.370000</td>\n",
       "      <td>103730.875000</td>\n",
       "      <td>129300.132500</td>\n",
       "      <td>90138.902500</td>\n",
       "    </tr>\n",
       "    <tr>\n",
       "      <td>50%</td>\n",
       "      <td>73051.080000</td>\n",
       "      <td>122699.795000</td>\n",
       "      <td>212716.240000</td>\n",
       "      <td>107978.190000</td>\n",
       "    </tr>\n",
       "    <tr>\n",
       "      <td>75%</td>\n",
       "      <td>101602.800000</td>\n",
       "      <td>144842.180000</td>\n",
       "      <td>299469.085000</td>\n",
       "      <td>139765.977500</td>\n",
       "    </tr>\n",
       "    <tr>\n",
       "      <td>max</td>\n",
       "      <td>165349.200000</td>\n",
       "      <td>182645.560000</td>\n",
       "      <td>471784.100000</td>\n",
       "      <td>192261.830000</td>\n",
       "    </tr>\n",
       "  </tbody>\n",
       "</table>\n",
       "</div>"
      ],
      "text/plain": [
       "           R&D Spend  Administration  Marketing Spend         Profit\n",
       "count      50.000000       50.000000        50.000000      50.000000\n",
       "mean    73721.615600   121344.639600    211025.097800  112012.639200\n",
       "std     45902.256482    28017.802755    122290.310726   40306.180338\n",
       "min         0.000000    51283.140000         0.000000   14681.400000\n",
       "25%     39936.370000   103730.875000    129300.132500   90138.902500\n",
       "50%     73051.080000   122699.795000    212716.240000  107978.190000\n",
       "75%    101602.800000   144842.180000    299469.085000  139765.977500\n",
       "max    165349.200000   182645.560000    471784.100000  192261.830000"
      ]
     },
     "execution_count": 357,
     "metadata": {},
     "output_type": "execute_result"
    }
   ],
   "source": [
    "df.describe() #Indicates that there are no outliers"
   ]
  },
  {
   "cell_type": "code",
   "execution_count": 358,
   "metadata": {},
   "outputs": [
    {
     "data": {
      "image/png": "[encoded data removed]",
      "text/plain": [
       "<Figure size 504x360 with 3 Axes>"
      ]
     },
     "metadata": {
      "needs_background": "light"
     },
     "output_type": "display_data"
    }
   ],
   "source": [
    "import matplotlib.pyplot as plt\n",
    "box_df = df.iloc[:,[0,1,2]]\n",
    "box_df.plot(kind='box', figsize= (7,5),subplots=True, layout=(1,3))\n",
    "plt.show()"
   ]
  },
  {
   "cell_type": "code",
   "execution_count": 359,
   "metadata": {},
   "outputs": [
    {
     "data": {
      "text/plain": [
       "R&D Spend          0\n",
       "Administration     0\n",
       "Marketing Spend    0\n",
       "State              0\n",
       "Profit             0\n",
       "dtype: int64"
      ]
     },
     "execution_count": 359,
     "metadata": {},
     "output_type": "execute_result"
    }
   ],
   "source": [
    "#Check and Handle categorical data\n",
    "#State is the only categorical data that needs to be handled. Rest are numerica data\n",
    "df.State.unique()\n",
    "dfU = pd.concat([pd.get_dummies(df.State), df.iloc[:,[0,1,2,4]]] , axis = 1)\n",
    "#pd.get_dummies(df.Pincode)\n",
    "df.isna().sum()"
   ]
  },
  {
   "cell_type": "code",
   "execution_count": 360,
   "metadata": {},
   "outputs": [],
   "source": [
    "features = dfU.iloc[:,:-1].values\n",
    "label = dfU.iloc[:,-1].values"
   ]
  },
  {
   "cell_type": "markdown",
   "metadata": {},
   "source": [
    "### Let us start with PCA"
   ]
  },
  {
   "cell_type": "code",
   "execution_count": 361,
   "metadata": {},
   "outputs": [],
   "source": [
    "\n",
    "# Rules/Guidelines:\n",
    "# 1. Always perform Standardization if you are planning to do PCA (MANDATORY)\n",
    "# 2. For PCA, n_components should be less than no of features\n",
    "# 3. n_components can be judged using PN's Technique\n",
    "#.   PN's Technique says that calc the principal component for n_components = n_features\n",
    "#.   Count the number of components greater than equal to 75%. The same count will be your\n",
    "#.   n_components"
   ]
  },
  {
   "cell_type": "code",
   "execution_count": 362,
   "metadata": {},
   "outputs": [],
   "source": [
    "#Step1: Perform Standardization\n",
    "from sklearn.preprocessing import StandardScaler\n",
    "sc = StandardScaler()\n",
    "features = sc.fit_transform(features)\n",
    "ideal_sc = sc"
   ]
  },
  {
   "cell_type": "code",
   "execution_count": 363,
   "metadata": {},
   "outputs": [
    {
     "data": {
      "text/plain": [
       "PCA(copy=True, iterated_power='auto', n_components=6, random_state=None,\n",
       "    svd_solver='auto', tol=0.0, whiten=False)"
      ]
     },
     "execution_count": 363,
     "metadata": {},
     "output_type": "execute_result"
    }
   ],
   "source": [
    "#Step2: Identify the ideal number of components to work with\n",
    "#PNs Technique\n",
    "from sklearn.decomposition import PCA\n",
    "principalComponents = PCA(n_components=6)  #Here n_components = len(features)\n",
    "principalComponents.fit(features,label)"
   ]
  },
  {
   "cell_type": "code",
   "execution_count": 364,
   "metadata": {},
   "outputs": [
    {
     "data": {
      "text/plain": [
       "array([3.26596913e-01, 2.51852089e-01, 2.16730846e-01, 1.68048197e-01,\n",
       "       3.67719551e-02, 2.90831698e-33])"
      ]
     },
     "execution_count": 364,
     "metadata": {},
     "output_type": "execute_result"
    }
   ],
   "source": [
    "#Lets get the ideal components (0.75 or later; else go with PC=1)\n",
    "principalComponents.explained_variance_ratio_"
   ]
  },
  {
   "cell_type": "code",
   "execution_count": 365,
   "metadata": {},
   "outputs": [],
   "source": [
    "\n",
    "#Based on above variance of each components, we conclude to go for n_components = 1"
   ]
  },
  {
   "cell_type": "code",
   "execution_count": 366,
   "metadata": {},
   "outputs": [
    {
     "data": {
      "text/plain": [
       "PCA(copy=True, iterated_power='auto', n_components=1, random_state=None,\n",
       "    svd_solver='auto', tol=0.0, whiten=False)"
      ]
     },
     "execution_count": 366,
     "metadata": {},
     "output_type": "execute_result"
    }
   ],
   "source": [
    "#Step3: Apply PCA with correct number of components\n",
    "from sklearn.decomposition import PCA\n",
    "principalComponentsFinal = PCA(n_components=1)  \n",
    "principalComponentsFinal.fit(features,label)"
   ]
  },
  {
   "cell_type": "code",
   "execution_count": 367,
   "metadata": {},
   "outputs": [
    {
     "data": {
      "text/plain": [
       "array([0.32659691])"
      ]
     },
     "execution_count": 367,
     "metadata": {},
     "output_type": "execute_result"
    }
   ],
   "source": [
    "principalComponentsFinal.explained_variance_ratio_"
   ]
  },
  {
   "cell_type": "code",
   "execution_count": 368,
   "metadata": {},
   "outputs": [],
   "source": [
    "#Step4: Transform the feature set\n",
    "finalFeatures = principalComponentsFinal.transform(features)\n"
   ]
  },
  {
   "cell_type": "markdown",
   "metadata": {},
   "source": [
    "## 1. Linear Regression"
   ]
  },
  {
   "cell_type": "code",
   "execution_count": 369,
   "metadata": {},
   "outputs": [
    {
     "name": "stdout",
     "output_type": "stream",
     "text": [
      "Test: 0.6401699219533012 Train: 0.6379660973122546 RS: 1\n",
      "Test: 0.6495662283829913 Train: 0.6393846499133367 RS: 3\n",
      "Test: 0.7299723691319306 Train: 0.6176820798015509 RS: 6\n",
      "Test: 0.6480117576825599 Train: 0.5894680723002407 RS: 8\n",
      "Test: 0.6886747589957533 Train: 0.63359859270417 RS: 9\n",
      "Test: 0.6925605371955526 Train: 0.6343891997263071 RS: 10\n",
      "Test: 0.7563000224530768 Train: 0.6150585888690339 RS: 11\n",
      "Test: 0.6478521291413639 Train: 0.6389935337641339 RS: 14\n",
      "Test: 0.7819806699250693 Train: 0.6030945901184679 RS: 20\n",
      "Test: 0.8594313761307419 Train: 0.5883921893573438 RS: 21\n",
      "Test: 0.6416528158838661 Train: 0.6385542170077596 RS: 24\n",
      "Test: 0.6925955570853268 Train: 0.6226675635764436 RS: 29\n",
      "Test: 0.7688602666311564 Train: 0.5804159837102509 RS: 31\n",
      "Test: 0.793594856359698 Train: 0.5873008932345786 RS: 32\n",
      "Test: 0.8319991232828792 Train: 0.6031583130684616 RS: 33\n",
      "Test: 0.6594611401147334 Train: 0.6219134555201589 RS: 39\n",
      "Test: 0.7905100673005137 Train: 0.5533906255806452 RS: 40\n",
      "Test: 0.7294602813492721 Train: 0.6253595470650826 RS: 41\n",
      "Test: 0.7167709699956788 Train: 0.5760735185657735 RS: 45\n",
      "Test: 0.7185109788889761 Train: 0.6123808651028417 RS: 46\n",
      "Test: 0.6657660397673515 Train: 0.6021306784255949 RS: 48\n",
      "Test: 0.7541608390517467 Train: 0.6282245636870256 RS: 49\n",
      "Ideal model inside LinearRegression(copy_X=True, fit_intercept=True, n_jobs=None, normalize=False) \n",
      "Ideal LinearRegression(copy_X=True, fit_intercept=True, n_jobs=None, normalize=False)\n",
      "The random state for the max test score  of 0.8594313761307419 is 21  \n",
      "Since test score is greater than train score this model is good\n"
     ]
    }
   ],
   "source": [
    "from sklearn.model_selection import train_test_split\n",
    "from sklearn.neighbors import KNeighborsRegressor\n",
    "from sklearn.linear_model import LinearRegression\n",
    "from sklearn.ensemble import RandomForestRegressor\n",
    "\n",
    "\n",
    "def determine_RS(features, label,model):\n",
    "    max_val = -10\n",
    "    max_train = -10\n",
    "    ideal_model = None\n",
    "    random_state = 0\n",
    "    xtrain=xtest=ytrain=ytest = 0\n",
    "    hit = 0 # This flag is fired when the test score is greater than train score\n",
    "    #Since there are 50 records lets try iteration over 200\n",
    "    for i in range(1,51):\n",
    "        X_train,X_test,y_train,y_test = train_test_split(features,\n",
    "                                                        label,\n",
    "                                                        test_size=0.2,\n",
    "                                                        random_state = i)\n",
    "\n",
    "\n",
    "        model.fit(X_train,y_train)\n",
    "\n",
    "        train_score = model.score(X_train,y_train)\n",
    "        test_score = model.score(X_test,y_test)\n",
    "\n",
    "        if test_score > train_score:\n",
    "            hit = 1\n",
    "            #print (\"test %r \" % test_score)\n",
    "            #print (\"max val %r \" % max_val)\n",
    "            if test_score > max_val:\n",
    "                max_val = test_score\n",
    "                ideal_model = model\n",
    "                random_state = i\n",
    "                max_train = train_score\n",
    "                xtrain,xtest,ytrain,ytest = X_train,X_test,y_train,y_test\n",
    "            print(\"Test: {} Train: {} RS: {}\".format(test_score,train_score,i))\n",
    "    print (\"Ideal model inside %r \" % (ideal_model))\n",
    "    return [max_val,max_train, random_state, hit, ideal_model,xtrain,xtest,ytrain,ytest]\n",
    "model = LinearRegression()\n",
    "max_test_score_LR ,max_train_score_LR, random_state_LR, hit_LR ,ideal_model_LR,X_train_LR,X_test_LR,y_train_LR,y_test_LR= determine_RS(finalFeatures, label, model)\n",
    "\n",
    "print (\"Ideal %r\"  %ideal_model_LR)\n",
    "\n",
    "print (\"The random state for the max test score  of %r is %r  \" % (max_test_score_LR, random_state_LR))\n",
    "if hit_LR:\n",
    "    print (\"Since test score is greater than train score this model is good\")"
   ]
  },
  {
   "cell_type": "code",
   "execution_count": 370,
   "metadata": {},
   "outputs": [
    {
     "name": "stdout",
     "output_type": "stream",
     "text": [
      "0.5809130094832935\n",
      "0.8768550668239933\n"
     ]
    }
   ],
   "source": [
    "print(ideal_model_LR.score(X_train_LR,y_train_LR))\n",
    "print(ideal_model_LR.score(X_test_LR,y_test_LR))"
   ]
  },
  {
   "cell_type": "markdown",
   "metadata": {},
   "source": [
    "###  Deployment without writing to Disk"
   ]
  },
  {
   "cell_type": "code",
   "execution_count": 371,
   "metadata": {},
   "outputs": [
    {
     "name": "stdout",
     "output_type": "stream",
     "text": [
      "Enter R & D spend: \n"
     ]
    },
    {
     "ename": "ValueError",
     "evalue": "could not convert string to float: ",
     "output_type": "error",
     "traceback": [
      "\u001b[1;31m---------------------------------------------------------------------------\u001b[0m",
      "\u001b[1;31mValueError\u001b[0m                                Traceback (most recent call last)",
      "\u001b[1;32m<ipython-input-371-3c7e5e7a1f7f>\u001b[0m in \u001b[0;36m<module>\u001b[1;34m\u001b[0m\n\u001b[1;32m----> 1\u001b[1;33m \u001b[0mR_and_D_spend\u001b[0m \u001b[1;33m=\u001b[0m \u001b[0mfloat\u001b[0m\u001b[1;33m(\u001b[0m\u001b[0minput\u001b[0m\u001b[1;33m(\u001b[0m\u001b[1;34m\"Enter R & D spend: \"\u001b[0m\u001b[1;33m)\u001b[0m\u001b[1;33m)\u001b[0m\u001b[1;33m\u001b[0m\u001b[1;33m\u001b[0m\u001b[0m\n\u001b[0m\u001b[0;32m      2\u001b[0m \u001b[0mAdmin\u001b[0m \u001b[1;33m=\u001b[0m \u001b[0mfloat\u001b[0m\u001b[1;33m(\u001b[0m\u001b[0minput\u001b[0m\u001b[1;33m(\u001b[0m\u001b[1;34m\"Enter Admininstration: \"\u001b[0m\u001b[1;33m)\u001b[0m\u001b[1;33m)\u001b[0m\u001b[1;33m\u001b[0m\u001b[1;33m\u001b[0m\u001b[0m\n\u001b[0;32m      3\u001b[0m \u001b[0mMarketing\u001b[0m \u001b[1;33m=\u001b[0m \u001b[0mfloat\u001b[0m\u001b[1;33m(\u001b[0m\u001b[0minput\u001b[0m\u001b[1;33m(\u001b[0m\u001b[1;34m\"Enter Marketing Spend: \"\u001b[0m\u001b[1;33m)\u001b[0m\u001b[1;33m)\u001b[0m\u001b[1;33m\u001b[0m\u001b[1;33m\u001b[0m\u001b[0m\n\u001b[0;32m      4\u001b[0m \u001b[0mState\u001b[0m \u001b[1;33m=\u001b[0m \u001b[0minput\u001b[0m\u001b[1;33m(\u001b[0m\u001b[1;34m\"Enter the state: \"\u001b[0m\u001b[1;33m)\u001b[0m\u001b[1;33m\u001b[0m\u001b[1;33m\u001b[0m\u001b[0m\n\u001b[0;32m      5\u001b[0m \u001b[1;33m\u001b[0m\u001b[0m\n",
      "\u001b[1;31mValueError\u001b[0m: could not convert string to float: "
     ]
    }
   ],
   "source": [
    "\n",
    "\n",
    "R_and_D_spend = float(input(\"Enter R & D spend: \"))\n",
    "Admin = float(input(\"Enter Admininstration: \"))\n",
    "Marketing = float(input(\"Enter Marketing Spend: \"))\n",
    "State = input(\"Enter the state: \")\n",
    "\n",
    "#Features \n",
    "def  compute_feature(R_and_D_spend,Admin,Marketing, State):\n",
    "    if State == 'California':\n",
    "        featureSet = np.array([[1,0,0,R_and_D_spend,Admin,Marketing,]])\n",
    "        return featureSet\n",
    "    elif State == 'Florida':\n",
    "        featureSet = np.array([[0,1,0,R_and_D_spend,Admin,Marketing,]])\n",
    "        return featureSet\n",
    "    elif State == 'New York':\n",
    "        print (R_and_D_spend)\n",
    "        print (Admin)\n",
    "        print (Marketing)\n",
    "        featureSet = np.array([[0,0,1,R_and_D_spend,Admin,Marketing]])\n",
    "        #print (featureSet)\n",
    "\n",
    "        return featureSet\n",
    "    else:\n",
    "        State = input(\"Enter the right state:[ 'California', 'Florida', 'New York'] \")\n",
    "        return compute_feature(R_and_D_spend,Admin,Marketing, State)\n",
    "        \n",
    "featureSet=compute_feature(R_and_D_spend,Admin,Marketing, State)        \n",
    "#print (featureSet)\n",
    "\n",
    "def predict_now(model):\n",
    "    #Standardization\n",
    "\n",
    "    fSetStandardized = sc.transform(featureSet)\n",
    "\n",
    "    #Transform Feature to PCA component\n",
    "\n",
    "    finalF = principalComponentsFinal.transform(fSetStandardized)\n",
    "\n",
    "    #Predict\n",
    "\n",
    "    print(\"Your Profit will be %r \" % model.predict(finalF))\n",
    "predict_now(ideal_model_LR)"
   ]
  },
  {
   "cell_type": "code",
   "execution_count": 330,
   "metadata": {},
   "outputs": [],
   "source": [
    "#Deploy\n",
    "# 1. model Object\n",
    "# 2. StandardScaler Object\n",
    "# 3. PCA object"
   ]
  },
  {
   "cell_type": "code",
   "execution_count": 331,
   "metadata": {},
   "outputs": [
    {
     "data": {
      "text/html": [
       "<div>\n",
       "<style scoped>\n",
       "    .dataframe tbody tr th:only-of-type {\n",
       "        vertical-align: middle;\n",
       "    }\n",
       "\n",
       "    .dataframe tbody tr th {\n",
       "        vertical-align: top;\n",
       "    }\n",
       "\n",
       "    .dataframe thead th {\n",
       "        text-align: right;\n",
       "    }\n",
       "</style>\n",
       "<table border=\"1\" class=\"dataframe\">\n",
       "  <thead>\n",
       "    <tr style=\"text-align: right;\">\n",
       "      <th></th>\n",
       "      <th>X_test_LR</th>\n",
       "      <th>PredictedProfit_LR</th>\n",
       "    </tr>\n",
       "  </thead>\n",
       "  <tbody>\n",
       "    <tr>\n",
       "      <td>0</td>\n",
       "      <td>[-2.213714795095182]</td>\n",
       "      <td>159575.631532</td>\n",
       "    </tr>\n",
       "    <tr>\n",
       "      <td>1</td>\n",
       "      <td>[2.2053548373604532]</td>\n",
       "      <td>60447.412476</td>\n",
       "    </tr>\n",
       "    <tr>\n",
       "      <td>2</td>\n",
       "      <td>[1.5029600471214999]</td>\n",
       "      <td>76203.476630</td>\n",
       "    </tr>\n",
       "    <tr>\n",
       "      <td>3</td>\n",
       "      <td>[1.2125625751988283]</td>\n",
       "      <td>82717.649658</td>\n",
       "    </tr>\n",
       "    <tr>\n",
       "      <td>4</td>\n",
       "      <td>[-1.8119603752772406]</td>\n",
       "      <td>150563.508292</td>\n",
       "    </tr>\n",
       "    <tr>\n",
       "      <td>5</td>\n",
       "      <td>[-2.6938065376317053]</td>\n",
       "      <td>170345.011374</td>\n",
       "    </tr>\n",
       "    <tr>\n",
       "      <td>6</td>\n",
       "      <td>[-1.1278176331763883]</td>\n",
       "      <td>135216.872632</td>\n",
       "    </tr>\n",
       "    <tr>\n",
       "      <td>7</td>\n",
       "      <td>[0.5443926824723604]</td>\n",
       "      <td>97705.983630</td>\n",
       "    </tr>\n",
       "    <tr>\n",
       "      <td>8</td>\n",
       "      <td>[-0.7802535001722678]</td>\n",
       "      <td>127420.341602</td>\n",
       "    </tr>\n",
       "    <tr>\n",
       "      <td>9</td>\n",
       "      <td>[2.7192821471890958]</td>\n",
       "      <td>48919.035875</td>\n",
       "    </tr>\n",
       "  </tbody>\n",
       "</table>\n",
       "</div>"
      ],
      "text/plain": [
       "               X_test_LR  PredictedProfit_LR\n",
       "0   [-2.213714795095182]       159575.631532\n",
       "1   [2.2053548373604532]        60447.412476\n",
       "2   [1.5029600471214999]        76203.476630\n",
       "3   [1.2125625751988283]        82717.649658\n",
       "4  [-1.8119603752772406]       150563.508292\n",
       "5  [-2.6938065376317053]       170345.011374\n",
       "6  [-1.1278176331763883]       135216.872632\n",
       "7   [0.5443926824723604]        97705.983630\n",
       "8  [-0.7802535001722678]       127420.341602\n",
       "9   [2.7192821471890958]        48919.035875"
      ]
     },
     "execution_count": 331,
     "metadata": {},
     "output_type": "execute_result"
    }
   ],
   "source": [
    "# Print root mean squared error (RMSE) from Linear Regression.\n",
    "#Creating a dataframe with test data and predicted output value\n",
    "import math\n",
    "PredictedProfit_LR = ideal_model_LR.predict(X_test_LR)\n",
    "predict_dataset_LR = pd.DataFrame({'X_test_LR': list(X_test_LR), 'PredictedProfit_LR': list(PredictedProfit_LR)}, columns=['X_test_LR', 'PredictedProfit_LR'])\n",
    "predict_dataset_LR\n",
    "\n"
   ]
  },
  {
   "cell_type": "markdown",
   "metadata": {},
   "source": [
    "### Root Mean Square Error"
   ]
  },
  {
   "cell_type": "code",
   "execution_count": 332,
   "metadata": {},
   "outputs": [
    {
     "name": "stdout",
     "output_type": "stream",
     "text": [
      "Print root mean squared error (RMSE) from LR Model Tree based on all parameters is  14783.4733608116 \n"
     ]
    }
   ],
   "source": [
    "from sklearn.metrics import mean_squared_error\n",
    "MSE_LR = mean_squared_error(y_test_LR, PredictedProfit_LR)\n",
    "print (\"Print root mean squared error (RMSE) from LR Model Tree based on all parameters is  %r \" % math.sqrt(MSE_LR))\n",
    "RMSE_LR =  math.sqrt(MSE_LR)"
   ]
  },
  {
   "cell_type": "markdown",
   "metadata": {},
   "source": [
    "###  Deployment  writing to Disk"
   ]
  },
  {
   "cell_type": "code",
   "execution_count": 372,
   "metadata": {},
   "outputs": [],
   "source": [
    "#Deployment\n",
    "\n",
    "#Persisting the model\n",
    "#Package ---- pickle (Store and Load Memory Objects to/from disk respectively)\n",
    "\n",
    "import pickle\n",
    "pickle.dump(ideal_model_LR , open('ProfitPredictorLR','wb')) #Get the memory object and store it in a persistent file\n",
    "pickle.dump(ideal_sc , open('StandardScaler','wb')) \n",
    "pickle.dump(principalComponentsFinal , open('principalComponentsFinal','wb'))"
   ]
  },
  {
   "cell_type": "markdown",
   "metadata": {},
   "source": [
    "## 2.  Linear SVR"
   ]
  },
  {
   "cell_type": "code",
   "execution_count": 334,
   "metadata": {},
   "outputs": [
    {
     "name": "stdout",
     "output_type": "stream",
     "text": [
      "Test: -4.569087835343495 Train: -9.42911399565845 RS: 1\n",
      "Test: -5.240942094719112 Train: -8.962868366318277 RS: 2\n",
      "Test: -5.7628274510102715 Train: -8.724992230429091 RS: 3\n",
      "Test: -5.452576037851747 Train: -8.844502987641558 RS: 6\n",
      "Test: -3.652772003851857 Train: -10.714608762439383 RS: 8\n",
      "Test: -6.557716140873875 Train: -8.279478691903256 RS: 10\n",
      "Test: -6.272284312218492 Train: -8.430819667603721 RS: 11\n",
      "Test: -7.261261545678606 Train: -8.257030562329296 RS: 12\n",
      "Test: -7.118927233760757 Train: -8.325397862527305 RS: 14\n",
      "Test: -6.184292995656259 Train: -9.661831454239607 RS: 18\n",
      "Test: -6.762452893498362 Train: -8.205226239406954 RS: 21\n",
      "Test: -7.200183325139657 Train: -8.27972119355018 RS: 26\n",
      "Test: -5.0213735683576495 Train: -9.103681160790924 RS: 29\n",
      "Test: -5.185519047031874 Train: -8.960164307981648 RS: 32\n",
      "Test: -5.870604238336955 Train: -8.773108308205924 RS: 37\n",
      "Test: -7.818812276120336 Train: -8.372066889447336 RS: 39\n",
      "Test: -4.6928677194953154 Train: -9.833607049112375 RS: 40\n",
      "Ideal model inside LinearSVR(C=1.0, dual=True, epsilon=0.0, fit_intercept=True,\n",
      "          intercept_scaling=1.0, loss='epsilon_insensitive', max_iter=1000,\n",
      "          random_state=9, tol=0.001, verbose=0) \n",
      "LinearSVR(C=1.0, dual=True, epsilon=0.0, fit_intercept=True,\n",
      "          intercept_scaling=1.0, loss='epsilon_insensitive', max_iter=1000,\n",
      "          random_state=9, tol=0.001, verbose=0)\n",
      "The random state for the max test score  of -3.652772003851857 is 8  \n",
      "Linear SVR is not a good model\n",
      "LinearSVR(C=1.0, dual=True, epsilon=0.0, fit_intercept=True,\n",
      "          intercept_scaling=1.0, loss='epsilon_insensitive', max_iter=1000,\n",
      "          random_state=9, tol=0.001, verbose=0)\n"
     ]
    }
   ],
   "source": [
    "from sklearn.ensemble import RandomForestRegressor\n",
    "from sklearn.svm import LinearSVR\n",
    "model = LinearSVR(random_state=9, tol=0.001)\n",
    "import warnings\n",
    "warnings.filterwarnings('ignore')\n",
    "max_test_score_SVR ,max_train_score_SVR,random_state_SVR, hit_SVR ,ideal_model_SVR,X_train_SVR,X_test_SVR,y_train_SVR,y_test_SVR= determine_RS(finalFeatures, label, model)\n",
    "\n",
    "print (ideal_model_SVR)\n",
    "if max_test_score_SVR:\n",
    "    print (\"The random state for the max test score  of %r is %r  \" % (max_test_score_SVR, random_state_SVR))\n",
    "if hit:\n",
    "    print (\"Since test score is greater than train score this model is good\")\n",
    "else:\n",
    "    print (\"Linear SVR is not a good model\")\n",
    "print (ideal_model_SVR)"
   ]
  },
  {
   "cell_type": "markdown",
   "metadata": {},
   "source": [
    "### Deployment without writing to disk"
   ]
  },
  {
   "cell_type": "code",
   "execution_count": 335,
   "metadata": {},
   "outputs": [
    {
     "name": "stdout",
     "output_type": "stream",
     "text": [
      "Enter R & D spend: 89\n",
      "Enter Admininstration: 654\n",
      "Enter Marketing Spend: 654\n",
      "Enter the state: California\n"
     ]
    }
   ],
   "source": [
    "\n",
    "\n",
    "R_and_D_spend = float(input(\"Enter R & D spend: \"))\n",
    "Admin = float(input(\"Enter Admininstration: \"))\n",
    "Marketing = float(input(\"Enter Marketing Spend: \"))\n",
    "State = input(\"Enter the state: \")\n",
    "featureSet=compute_feature(R_and_D_spend,Admin,Marketing, State)"
   ]
  },
  {
   "cell_type": "code",
   "execution_count": 336,
   "metadata": {},
   "outputs": [
    {
     "name": "stdout",
     "output_type": "stream",
     "text": [
      "Your Profit will be array([36.39425401]) \n"
     ]
    }
   ],
   "source": [
    "predict_now(ideal_model_SVR)\n",
    "\n"
   ]
  },
  {
   "cell_type": "markdown",
   "metadata": {},
   "source": [
    "### Deployment writing to disk"
   ]
  },
  {
   "cell_type": "code",
   "execution_count": 346,
   "metadata": {},
   "outputs": [],
   "source": [
    "#Deployment\n",
    "\n",
    "#Persisting the model\n",
    "#Package ---- pickle (Store and Load Memory Objects to/from disk respectively)\n",
    "\n",
    "import pickle\n",
    "pickle.dump(ideal_model_SVR , open('ProfitPredictorSVR','wb')) #Get the memory object and store it in a persistent file\n"
   ]
  },
  {
   "cell_type": "code",
   "execution_count": null,
   "metadata": {},
   "outputs": [],
   "source": [
    "#Deploy\n",
    "# 1. model Object\n",
    "# 2. StandardScaler Object\n",
    "# 3. PCA object"
   ]
  },
  {
   "cell_type": "code",
   "execution_count": 339,
   "metadata": {},
   "outputs": [
    {
     "data": {
      "text/html": [
       "<div>\n",
       "<style scoped>\n",
       "    .dataframe tbody tr th:only-of-type {\n",
       "        vertical-align: middle;\n",
       "    }\n",
       "\n",
       "    .dataframe tbody tr th {\n",
       "        vertical-align: top;\n",
       "    }\n",
       "\n",
       "    .dataframe thead th {\n",
       "        text-align: right;\n",
       "    }\n",
       "</style>\n",
       "<table border=\"1\" class=\"dataframe\">\n",
       "  <thead>\n",
       "    <tr style=\"text-align: right;\">\n",
       "      <th></th>\n",
       "      <th>X_test_SVR</th>\n",
       "      <th>PredictedProfit_SVR</th>\n",
       "    </tr>\n",
       "  </thead>\n",
       "  <tbody>\n",
       "    <tr>\n",
       "      <td>0</td>\n",
       "      <td>[2.2053548373604532]</td>\n",
       "      <td>37.647234</td>\n",
       "    </tr>\n",
       "    <tr>\n",
       "      <td>1</td>\n",
       "      <td>[2.592647645291922]</td>\n",
       "      <td>37.234053</td>\n",
       "    </tr>\n",
       "    <tr>\n",
       "      <td>2</td>\n",
       "      <td>[-0.23969686592628459]</td>\n",
       "      <td>40.255719</td>\n",
       "    </tr>\n",
       "    <tr>\n",
       "      <td>3</td>\n",
       "      <td>[-1.1278176331763883]</td>\n",
       "      <td>41.203204</td>\n",
       "    </tr>\n",
       "    <tr>\n",
       "      <td>4</td>\n",
       "      <td>[2.2374216126726587]</td>\n",
       "      <td>37.613023</td>\n",
       "    </tr>\n",
       "    <tr>\n",
       "      <td>5</td>\n",
       "      <td>[-1.2869706782609602]</td>\n",
       "      <td>41.372995</td>\n",
       "    </tr>\n",
       "    <tr>\n",
       "      <td>6</td>\n",
       "      <td>[-0.5273403615650528]</td>\n",
       "      <td>40.562589</td>\n",
       "    </tr>\n",
       "    <tr>\n",
       "      <td>7</td>\n",
       "      <td>[-2.5497373889745663]</td>\n",
       "      <td>42.720168</td>\n",
       "    </tr>\n",
       "    <tr>\n",
       "      <td>8</td>\n",
       "      <td>[-0.7802535001722678]</td>\n",
       "      <td>40.832408</td>\n",
       "    </tr>\n",
       "    <tr>\n",
       "      <td>9</td>\n",
       "      <td>[1.8652324516758994]</td>\n",
       "      <td>38.010091</td>\n",
       "    </tr>\n",
       "  </tbody>\n",
       "</table>\n",
       "</div>"
      ],
      "text/plain": [
       "               X_test_SVR  PredictedProfit_SVR\n",
       "0    [2.2053548373604532]            37.647234\n",
       "1     [2.592647645291922]            37.234053\n",
       "2  [-0.23969686592628459]            40.255719\n",
       "3   [-1.1278176331763883]            41.203204\n",
       "4    [2.2374216126726587]            37.613023\n",
       "5   [-1.2869706782609602]            41.372995\n",
       "6   [-0.5273403615650528]            40.562589\n",
       "7   [-2.5497373889745663]            42.720168\n",
       "8   [-0.7802535001722678]            40.832408\n",
       "9    [1.8652324516758994]            38.010091"
      ]
     },
     "execution_count": 339,
     "metadata": {},
     "output_type": "execute_result"
    }
   ],
   "source": [
    "# Print root mean squared error (RMSE) from Linear Regression.\n",
    "#Creating a dataframe with test data and predicted output value\n",
    "import math\n",
    "PredictedProfit_SVR = ideal_model_SVR.predict(X_test_SVR)\n",
    "predict_dataset_SVR = pd.DataFrame({'X_test_SVR': list(X_test_SVR), 'PredictedProfit_SVR': list(PredictedProfit_SVR)}, columns=['X_test_SVR', 'PredictedProfit_SVR'])\n",
    "predict_dataset_SVR\n"
   ]
  },
  {
   "cell_type": "markdown",
   "metadata": {},
   "source": [
    "### Root Mean Square Error"
   ]
  },
  {
   "cell_type": "code",
   "execution_count": 342,
   "metadata": {},
   "outputs": [
    {
     "name": "stdout",
     "output_type": "stream",
     "text": [
      "Print root mean squared error (RMSE) from LR Model Tree based on all parameters is  62742.362360145285 \n"
     ]
    }
   ],
   "source": [
    "from sklearn.metrics import mean_squared_error\n",
    "MSE_SVR = mean_squared_error(y_test_SVR, PredictedProfit)\n",
    "print (\"Print root mean squared error (RMSE) from LR Model Tree based on all parameters is  %r \" % math.sqrt(MSE_SVR))\n",
    "RMSE_SVR = math.sqrt(MSE_SVR)"
   ]
  },
  {
   "cell_type": "markdown",
   "metadata": {},
   "source": [
    "## 3. Random Forest Regressor"
   ]
  },
  {
   "cell_type": "code",
   "execution_count": 343,
   "metadata": {},
   "outputs": [
    {
     "name": "stdout",
     "output_type": "stream",
     "text": [
      "Ideal model inside None \n",
      "Random Forest is not a good model\n"
     ]
    }
   ],
   "source": [
    "from sklearn.ensemble import RandomForestRegressor\n",
    "model = RandomForestRegressor()\n",
    "max_test_score_RF ,max_train_score_RF, random_state_RF, hit_RF ,ideal_model_RF,X_train_RF,X_test_RF,y_train_RF,y_test_RF= determine_RS(finalFeatures, label, model)\n",
    "\n",
    "if  random_state_RF!= 0:\n",
    "    print (\"The random state for the max test score  of %r is %r  \" % (max_test_score_RF, random_state_RF))\n",
    "if hit:\n",
    "    print (\"Since test score is greater than train score this model is good\")\n",
    "else:\n",
    "    print (\"Random Forest is not a good model\")"
   ]
  },
  {
   "cell_type": "code",
   "execution_count": 344,
   "metadata": {},
   "outputs": [],
   "source": [
    "data = {'Model':['RS','Test Score ' ,'Train Score' ,' Model is good', 'RMSE'],\n",
    "        'Linear Regression':[random_state_LR, max_test_score_LR,max_train_score_LR, 'Yes',RMSE_LR ],\n",
    "        'Linear SVR' :[random_state_SVR, max_test_score_SVR,max_train_score_SVR, 'Yes',RMSE_SVR],\n",
    "        'Random Forest':['NA',0.802,  0.9230,'No', 'NA']}\n",
    " \n",
    "# Create DataFrame\n",
    "df = pd.DataFrame(data)"
   ]
  },
  {
   "cell_type": "markdown",
   "metadata": {},
   "source": [
    "### Conclusion: PCA for all three models"
   ]
  },
  {
   "cell_type": "code",
   "execution_count": 345,
   "metadata": {},
   "outputs": [
    {
     "data": {
      "text/html": [
       "<div>\n",
       "<style scoped>\n",
       "    .dataframe tbody tr th:only-of-type {\n",
       "        vertical-align: middle;\n",
       "    }\n",
       "\n",
       "    .dataframe tbody tr th {\n",
       "        vertical-align: top;\n",
       "    }\n",
       "\n",
       "    .dataframe thead th {\n",
       "        text-align: right;\n",
       "    }\n",
       "</style>\n",
       "<table border=\"1\" class=\"dataframe\">\n",
       "  <thead>\n",
       "    <tr style=\"text-align: right;\">\n",
       "      <th></th>\n",
       "      <th>Model</th>\n",
       "      <th>Linear Regression</th>\n",
       "      <th>Linear SVR</th>\n",
       "      <th>Random Forest</th>\n",
       "    </tr>\n",
       "  </thead>\n",
       "  <tbody>\n",
       "    <tr>\n",
       "      <td>0</td>\n",
       "      <td>RS</td>\n",
       "      <td>21</td>\n",
       "      <td>8</td>\n",
       "      <td>NA</td>\n",
       "    </tr>\n",
       "    <tr>\n",
       "      <td>1</td>\n",
       "      <td>Test Score</td>\n",
       "      <td>0.859431</td>\n",
       "      <td>-3.65277</td>\n",
       "      <td>0.802</td>\n",
       "    </tr>\n",
       "    <tr>\n",
       "      <td>2</td>\n",
       "      <td>Train Score</td>\n",
       "      <td>0.588392</td>\n",
       "      <td>-10.7146</td>\n",
       "      <td>0.923</td>\n",
       "    </tr>\n",
       "    <tr>\n",
       "      <td>3</td>\n",
       "      <td>Model is good</td>\n",
       "      <td>Yes</td>\n",
       "      <td>Yes</td>\n",
       "      <td>No</td>\n",
       "    </tr>\n",
       "    <tr>\n",
       "      <td>4</td>\n",
       "      <td>RMSE</td>\n",
       "      <td>14783.5</td>\n",
       "      <td>62742.4</td>\n",
       "      <td>NA</td>\n",
       "    </tr>\n",
       "  </tbody>\n",
       "</table>\n",
       "</div>"
      ],
      "text/plain": [
       "            Model Linear Regression Linear SVR Random Forest\n",
       "0              RS                21          8            NA\n",
       "1     Test Score           0.859431   -3.65277         0.802\n",
       "2     Train Score          0.588392   -10.7146         0.923\n",
       "3   Model is good               Yes        Yes            No\n",
       "4            RMSE           14783.5    62742.4            NA"
      ]
     },
     "execution_count": 345,
     "metadata": {},
     "output_type": "execute_result"
    }
   ],
   "source": [
    "df"
   ]
  },
  {
   "cell_type": "code",
   "execution_count": null,
   "metadata": {},
   "outputs": [],
   "source": []
  },
  {
   "cell_type": "code",
   "execution_count": null,
   "metadata": {},
   "outputs": [],
   "source": []
  }
 ],
 "metadata": {
  "kernelspec": {
   "display_name": "Python 3",
   "language": "python",
   "name": "python3"
  },
  "language_info": {
   "codemirror_mode": {
    "name": "ipython",
    "version": 3
   },
   "file_extension": ".py",
   "mimetype": "text/x-python",
   "name": "python",
   "nbconvert_exporter": "python",
   "pygments_lexer": "ipython3",
   "version": "3.7.4"
  }
 },
 "nbformat": 4,
 "nbformat_minor": 2
}
